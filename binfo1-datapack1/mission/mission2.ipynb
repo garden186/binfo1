{
 "cells": [
  {
   "cell_type": "code",
   "execution_count": 1,
   "id": "30e4e98e",
   "metadata": {},
   "outputs": [
    {
     "name": "stdout",
     "output_type": "stream",
     "text": [
      "chr1\tHAVANA\tstart_codon\t4878137\t4878139\t.\t+\t0\tENSMUST00000134384.8\r\n",
      "chr1\tHAVANA\tstart_codon\t4878137\t4878139\t.\t+\t0\tENSMUST00000027036.11\r\n",
      "chr1\tHAVANA\tstart_codon\t4878137\t4878139\t.\t+\t0\tENSMUST00000150971.8\r\n",
      "chr1\tHAVANA\tstart_codon\t4928137\t4928139\t.\t+\t0\tENSMUST00000081551.14\r\n",
      "chr1\tHAVANA\tstart_codon\t5154674\t5154676\t.\t+\t0\tENSMUST00000044369.13\r\n",
      "chr1\tHAVANA\tstart_codon\t5659272\t5659274\t.\t+\t0\tENSMUST00000160777.8\r\n",
      "chr1\tHAVANA\tstart_codon\t5659272\t5659274\t.\t+\t0\tENSMUST00000027038.11\r\n",
      "chr1\tHAVANA\tstart_codon\t6300227\t6300229\t.\t+\t0\tENSMUST00000027040.13\r\n",
      "chr1\tHAVANA\tstart_codon\t6429555\t6429557\t.\t+\t0\tENSMUST00000133144.4\r\n",
      "chr1\tHAVANA\tstart_codon\t6839122\t6839124\t.\t+\t0\tENSMUST00000140079.8\r\n"
     ]
    }
   ],
   "source": [
    "!grep '\tstart_codon\t.*\t+\t.*transcript_support_level \"1\"' gencode.gtf | \\\n",
    " sed -e 's/\t[^\t]*transcript_id \"\\([^\"]*\\)\".*$/\t\\1/g' > gencode-start.gtf\n",
    "!head gencode-start.gtf"
   ]
  },
  {
   "cell_type": "code",
   "execution_count": 2,
   "id": "d4135606",
   "metadata": {},
   "outputs": [
    {
     "name": "stdout",
     "output_type": "stream",
     "text": [
      "chr1\tHAVANA\texon\t3143476\t3144545\t.\t+\t.\tENSMUST00000193812.2\r\n",
      "chr1\tENSEMBL\texon\t3172239\t3172348\t.\t+\t.\tENSMUST00000082908.3\r\n",
      "chr1\tHAVANA\texon\t3322980\t3323459\t.\t+\t.\tENSMUST00000192857.2\r\n",
      "chr1\tHAVANA\texon\t3536810\t3536910\t.\t+\t.\tENSMUST00000161581.2\r\n",
      "chr1\tHAVANA\texon\t3583628\t3583776\t.\t+\t.\tENSMUST00000161581.2\r\n",
      "chr1\tHAVANA\texon\t3602018\t3602943\t.\t+\t.\tENSMUST00000192183.2\r\n",
      "chr1\tHAVANA\texon\t3750378\t3752011\t.\t+\t.\tENSMUST00000193244.2\r\n",
      "chr1\tHAVANA\texon\t3822233\t3824583\t.\t+\t.\tENSMUST00000194454.2\r\n",
      "chr1\tHAVANA\texon\t4566774\t4569601\t.\t+\t.\tENSMUST00000193450.2\r\n",
      "chr1\tHAVANA\texon\t4567697\t4567877\t.\t+\t.\tENSMUST00000194935.2\r\n"
     ]
    }
   ],
   "source": [
    "!grep '\texon\t.*\t+\t' gencode.gtf | \\\n",
    " sed -e 's/\t[^\t]*transcript_id \"\\([^\"]*\\)\".*$/\t\\1/g' > gencode-plusexon.gtf\n",
    "!head gencode-plusexon.gtf"
   ]
  },
  {
   "cell_type": "code",
   "execution_count": 5,
   "id": "16eff037",
   "metadata": {},
   "outputs": [
    {
     "name": "stdout",
     "output_type": "stream",
     "text": [
      "chr1\t4878010\t4878205\tENSMUST00000134384.8\t4878136\t+\r\n",
      "chr1\t4878045\t4878205\tENSMUST00000027036.11\t4878136\t+\r\n",
      "chr1\t4878052\t4878205\tENSMUST00000150971.8\t4878136\t+\r\n",
      "chr1\t4928036\t4928199\tENSMUST00000081551.14\t4928136\t+\r\n",
      "chr1\t5154639\t5154786\tENSMUST00000044369.13\t5154673\t+\r\n",
      "chr1\t5659227\t5659528\tENSMUST00000027038.11\t5659271\t+\r\n",
      "chr1\t5659257\t5659528\tENSMUST00000160777.8\t5659271\t+\r\n",
      "chr1\t6300182\t6300297\tENSMUST00000027040.13\t6300226\t+\r\n",
      "chr1\t6429441\t6429738\tENSMUST00000133144.4\t6429554\t+\r\n",
      "chr1\t6839121\t6839176\tENSMUST00000043578.13\t6839121\t+\r\n",
      "chrY\t80939672\t80939804\tENSMUST00000185340.2\t80939686\t+\r\n",
      "chrY\t81470683\t81470815\tENSMUST00000187135.2\t81470697\t+\r\n",
      "chrY\t82237903\t82238035\tENSMUST00000185636.2\t82237917\t+\r\n",
      "chrY\t83043623\t83043755\tENSMUST00000187165.2\t83043637\t+\r\n",
      "chrY\t84109956\t84110088\tENSMUST00000185776.7\t84109970\t+\r\n",
      "chrY\t84759361\t84759493\tENSMUST00000186110.2\t84759375\t+\r\n",
      "chrY\t86074448\t86074580\tENSMUST00000188754.2\t86074462\t+\r\n",
      "chrY\t87129500\t87129632\tENSMUST00000189543.7\t87129514\t+\r\n",
      "chrY\t87563647\t87563779\tENSMUST00000186493.2\t87563661\t+\r\n",
      "chrY\t88065992\t88066124\tENSMUST00000187146.2\t88066006\t+\r\n"
     ]
    }
   ],
   "source": [
    "!bedtools intersect -a gencode-start.gtf -b gencode-plusexon.gtf -wa -wb | \\\n",
    " awk -F'\t' -v OFS='\t' '$9 == $18 { print $10, $13-1, $14, $18, $4-1, $16; }' | \\\n",
    " sort -k1,1 -k2,3n -k4,4 > gencode-exons-containing-startcodon.bed\n",
    "!head gencode-exons-containing-startcodon.bed; tail gencode-exons-containing-startcodon.bed"
   ]
  },
  {
   "cell_type": "code",
   "execution_count": 8,
   "id": "e1acd24e",
   "metadata": {},
   "outputs": [],
   "source": [
    "!(samtools view -H RPF-siLuc.bam; \\\n",
    "  samtools view -F20 RPF-siLuc.bam | \\\n",
    "  bioawk -c sam '{ if (length($seq) >= 25) print $0; }') | \\\n",
    " samtools view -b -o filtered-RPF-siLuc.bam"
   ]
  },
  {
   "cell_type": "code",
   "execution_count": 10,
   "id": "f5bd6481",
   "metadata": {},
   "outputs": [
    {
     "name": "stdout",
     "output_type": "stream",
     "text": [
      "-rw-r--r-- 1 root      root       572853320  5월 11 16:40 filtered-RPF-siLuc.bam\r\n",
      "-rw-rw-r-- 1 garden186 garden186 1055123479  5월 10 10:37 RPF-siLuc.bam\r\n"
     ]
    }
   ],
   "source": [
    "!ls -al *RPF-siLuc.bam"
   ]
  },
  {
   "cell_type": "code",
   "execution_count": null,
   "id": "d26b97ea",
   "metadata": {},
   "outputs": [],
   "source": [
    "!bedtools genomecov -ibam filtered-RPF-siLuc.bam -bg -5 > fivepcounts-RPF-siLuc.bed\n",
    "!head fivepcounts-RPF-siLuc.bed"
   ]
  }
 ],
 "metadata": {
  "kernelspec": {
   "display_name": "Python 3 (ipykernel)",
   "language": "python",
   "name": "python3"
  },
  "language_info": {
   "codemirror_mode": {
    "name": "ipython",
    "version": 3
   },
   "file_extension": ".py",
   "mimetype": "text/x-python",
   "name": "python",
   "nbconvert_exporter": "python",
   "pygments_lexer": "ipython3",
   "version": "3.10.4"
  }
 },
 "nbformat": 4,
 "nbformat_minor": 5
}
